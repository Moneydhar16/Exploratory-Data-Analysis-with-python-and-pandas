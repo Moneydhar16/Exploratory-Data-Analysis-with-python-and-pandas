{
  "cells": [
    {
      "cell_type": "markdown",
      "metadata": {
        "id": "jDLQdhf4IDAY"
      },
      "source": [
        "<h2 align=center>Exploratory Data Analysis With Python and Pandas</h2>\n",
        "<img src=\"logo.png\">"
      ]
    },
    {
      "cell_type": "markdown",
      "metadata": {
        "heading_collapsed": true,
        "id": "0M1312bpIDAc"
      },
      "source": [
        "### Libraries"
      ]
    },
    {
      "cell_type": "code",
      "execution_count": null,
      "metadata": {
        "hidden": true,
        "id": "U56CVHVbIDAd"
      },
      "outputs": [],
      "source": [
        "import pandas as pd\n",
        "import numpy as np\n",
        "%matplotlib inline\n",
        "import matplotlib.pyplot as plt\n",
        "import seaborn as sns\n",
        "!pip install calmap\n",
        "import calmap\n",
        "!pip3 install pandas_profiling --upgrade\n",
        "from pandas_profiling import ProfileReport"
      ]
    },
    {
      "cell_type": "markdown",
      "metadata": {
        "id": "6lSPsDDqIDAg"
      },
      "source": [
        "### Task 1: Initial Data Exploration"
      ]
    },
    {
      "cell_type": "code",
      "execution_count": 3,
      "metadata": {
        "id": "9MTfeGlWIDAg"
      },
      "outputs": [],
      "source": [
        "df=pd.read_csv(\"/content/sample_data/supermarket_sales - Sheet1.csv\")"
      ]
    },
    {
      "cell_type": "code",
      "execution_count": null,
      "metadata": {
        "id": "kZcWNmFZIDAh"
      },
      "outputs": [],
      "source": [
        "df.head(10)"
      ]
    },
    {
      "cell_type": "markdown",
      "metadata": {
        "id": "OfYYprUuIDAi"
      },
      "source": [
        " "
      ]
    },
    {
      "cell_type": "code",
      "execution_count": null,
      "metadata": {
        "id": "SaFSxgwVIDAj"
      },
      "outputs": [],
      "source": [
        "df.dtypes\n"
      ]
    },
    {
      "cell_type": "code",
      "execution_count": null,
      "metadata": {
        "id": "cRBOXD6rIDAk"
      },
      "outputs": [],
      "source": [
        "df['Date']=pd.to_datetime(df['Date'])"
      ]
    },
    {
      "cell_type": "code",
      "source": [
        "df.columns\n"
      ],
      "metadata": {
        "id": "vifkY0YVqHxf"
      },
      "execution_count": null,
      "outputs": []
    },
    {
      "cell_type": "code",
      "execution_count": 8,
      "metadata": {
        "id": "jCfJO_NuIDAk"
      },
      "outputs": [],
      "source": [
        "df.set_index('Date',inplace= True) # inplace = true to signify permanent change to the data frame."
      ]
    },
    {
      "cell_type": "code",
      "execution_count": null,
      "metadata": {
        "id": "IES_JMleIDAk"
      },
      "outputs": [],
      "source": [
        "df.describe()"
      ]
    },
    {
      "cell_type": "markdown",
      "metadata": {
        "id": "-aOnWIjaIDAl"
      },
      "source": [
        "### Task 2: Univariate Analysis"
      ]
    },
    {
      "cell_type": "markdown",
      "metadata": {
        "id": "jEAywEVEIDAl"
      },
      "source": [
        "**Question 1:** What does the distribution of customer ratings looks like? Is it skewed?"
      ]
    },
    {
      "cell_type": "code",
      "execution_count": null,
      "metadata": {
        "scrolled": true,
        "id": "7JZTnNX8IDAm"
      },
      "outputs": [],
      "source": [
        "sns.distplot(df['Rating'])\n",
        "plt.axvline(x=np.mean(df['Rating']),c='red',ls='--') # axvline for plotting vertical line \n",
        "plt.axvline(x=np.percentile(df['Rating'],25),c='green',ls='--',label='mean') # for plotting percentile \n",
        "plt.axvline(x=np.percentile(df['Rating'],75),c='green',ls='--',label='25-75')\n",
        "plt.ylabel(\"Frequency\")\n",
        "plt.legend()\n",
        "plt.show()"
      ]
    },
    {
      "cell_type": "code",
      "source": [
        "df.hist(figsize=(10,20))\n",
        "plt.show()"
      ],
      "metadata": {
        "id": "kalFrP91uZhP"
      },
      "execution_count": null,
      "outputs": []
    },
    {
      "cell_type": "code",
      "source": [
        "plt.axvline(x=np.mean(df['Rating']),c='red',ls='--')\n",
        "plt.show()"
      ],
      "metadata": {
        "id": "pYZVBcG4rtDP"
      },
      "execution_count": null,
      "outputs": []
    },
    {
      "cell_type": "markdown",
      "source": [
        "**Conclusion**\n",
        "\n",
        "The frequency of ratings plot is not skewed in any direction \n"
      ],
      "metadata": {
        "id": "K-XMnhaAwJ1U"
      }
    },
    {
      "cell_type": "markdown",
      "metadata": {
        "id": "9MecR7T9IDAm"
      },
      "source": [
        "**Question 2:** Do aggregate sales numbers differ by much between branches?"
      ]
    },
    {
      "cell_type": "code",
      "execution_count": null,
      "metadata": {
        "id": "iyGbiqzwIDAn"
      },
      "outputs": [],
      "source": [
        "sns.countplot(x=df['Branch'])\n",
        "plt.title('no of sales Branch wise')\n",
        "plt.ylabel('#of sales')\n",
        "plt.show()\n",
        "df['Branch'].value_counts()"
      ]
    },
    {
      "cell_type": "markdown",
      "metadata": {
        "id": "xFZ0cgYQIDAn"
      },
      "source": [
        "***Now, we are done with univariate analysis. So, lets go on analyzing two variables at a time. i.e finding correlations. The best visualizations for interpreting correlations are scatter plot and heatmap ***\n"
      ]
    },
    {
      "cell_type": "markdown",
      "metadata": {
        "id": "85toeIRoIDAo"
      },
      "source": [
        "### Task 3: Bivariate Analysis"
      ]
    },
    {
      "cell_type": "markdown",
      "metadata": {
        "id": "hKCbccqGIDAo"
      },
      "source": [
        "**Question 3:** Is there a relationship between gross income and customer ratings?"
      ]
    },
    {
      "cell_type": "code",
      "execution_count": null,
      "metadata": {
        "id": "ktyx4DmMIDAo"
      },
      "outputs": [],
      "source": [
        "sns.scatterplot(x=df['Rating'],y=df['gross income'])\n",
        "sns.regplot(x=df['Rating'],y=df['gross income']) ## for trendline"
      ]
    },
    {
      "cell_type": "markdown",
      "source": [
        "BOX PLOT IS USED TO PLOT CATEGORICAL VARIABLE WITH NUMERICAL VARIABLE."
      ],
      "metadata": {
        "id": "9HHXdigM1V5R"
      }
    },
    {
      "cell_type": "code",
      "source": [
        "sns.boxplot(x=df['Branch'],y=df['gross income'])"
      ],
      "metadata": {
        "id": "9dxB1NjW0pVo"
      },
      "execution_count": null,
      "outputs": []
    },
    {
      "cell_type": "markdown",
      "source": [
        "AS VISIBLE FROM THE ABOVE PLOT, INTERESTINGLY, THERE IS NO CORRELATION BETWEEN THE GROSS INCOME AND CUSTOMER RATINGS."
      ],
      "metadata": {
        "id": "-8BWIqXv2xQY"
      }
    },
    {
      "cell_type": "markdown",
      "metadata": {
        "id": "bhX3PgduIDAo"
      },
      "source": [
        "**Question 4:** Is there a noticeable time trend in gross income?"
      ]
    },
    {
      "cell_type": "code",
      "execution_count": null,
      "metadata": {
        "id": "VbwpwJ4lIDAo"
      },
      "outputs": [],
      "source": [
        "sns.lineplot(x=df.groupby(df.index).mean().index,y=df.groupby(df.index).mean()['gross income'])"
      ]
    },
    {
      "cell_type": "markdown",
      "metadata": {
        "id": "_e9DT9IwIDAp"
      },
      "source": [
        " "
      ]
    },
    {
      "cell_type": "markdown",
      "metadata": {
        "id": "QhAUdrJEIDAp"
      },
      "source": [
        "### Task 4: Dealing With Duplicate Rows and Missing Values"
      ]
    },
    {
      "cell_type": "code",
      "execution_count": 17,
      "metadata": {
        "id": "JP_enWyjIDAp"
      },
      "outputs": [],
      "source": [
        "df.duplicated().sum()  ### duplicated is a boolean operator and attaching sum to it returns total no of duplicated values\n",
        "df[df.duplicated()==True] # returns the entries in data frame where the entries are duplicated \n",
        "df.drop_duplicates(inplace=True)"
      ]
    },
    {
      "cell_type": "code",
      "execution_count": null,
      "metadata": {
        "id": "3OY17unAIDAp"
      },
      "outputs": [],
      "source": [
        "df.isna().sum() # counts the no of missing values in each field, here na represents notavailable\n",
        "len(df) \n",
        "sns.heatmap(df.isnull(), cbar= True)\n",
        "df.fillna(df.mean(),inplace= True) # for replacing the numerical values only "
      ]
    },
    {
      "cell_type": "markdown",
      "source": [
        "FOR CATEGORICAL VALUES, MODE CAN BE USED TO REPLACE THE MISSING VALUES "
      ],
      "metadata": {
        "id": "TQQ105yFMTls"
      }
    },
    {
      "cell_type": "code",
      "source": [
        "df.mode()\n",
        "df.fillna(df.mode().iloc[0], inplace= True)\n",
        "df.head()"
      ],
      "metadata": {
        "id": "_1fyRt5nMqfw"
      },
      "execution_count": null,
      "outputs": []
    },
    {
      "cell_type": "markdown",
      "source": [
        "**Pandas profiling streamlines the entire EDA process** "
      ],
      "metadata": {
        "id": "JCdo6HFDTqMl"
      }
    },
    {
      "cell_type": "code",
      "source": [
        "\n",
        "dataset= pd.read_csv(\"/content/sample_data/supermarket_sales - Sheet1.csv\")\n",
        "df1 = ProfileReport(dataset)\n",
        "df1"
      ],
      "metadata": {
        "id": "pl7Zzjl4Toba"
      },
      "execution_count": null,
      "outputs": []
    },
    {
      "cell_type": "markdown",
      "metadata": {
        "id": "9XNNw1tuIDAp"
      },
      "source": [
        " "
      ]
    },
    {
      "cell_type": "markdown",
      "metadata": {
        "id": "zvEB09nmIDAp"
      },
      "source": [
        "### Task 5: Correlation Analysis"
      ]
    },
    {
      "cell_type": "code",
      "execution_count": null,
      "metadata": {
        "id": "UyaASea4IDAp"
      },
      "outputs": [],
      "source": [
        "np.corrcoef(df['gross income'],df['Rating'])\n"
      ]
    },
    {
      "cell_type": "code",
      "execution_count": null,
      "metadata": {
        "id": "2Ilduou7IDAp"
      },
      "outputs": [],
      "source": [
        "sns.heatmap(np.round(np.corrcoef(df['gross income'],df['Rating']),2), annot= True)"
      ]
    }
  ],
  "metadata": {
    "kernelspec": {
      "display_name": "Python 3",
      "language": "python",
      "name": "python3"
    },
    "language_info": {
      "codemirror_mode": {
        "name": "ipython",
        "version": 3
      },
      "file_extension": ".py",
      "mimetype": "text/x-python",
      "name": "python",
      "nbconvert_exporter": "python",
      "pygments_lexer": "ipython3",
      "version": "3.6.9"
    },
    "colab": {
      "provenance": []
    }
  },
  "nbformat": 4,
  "nbformat_minor": 0
}